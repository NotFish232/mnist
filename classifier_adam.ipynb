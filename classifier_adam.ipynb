{
 "cells": [
  {
   "cell_type": "code",
   "execution_count": 1,
   "metadata": {},
   "outputs": [],
   "source": [
    "import numpy as np\n",
    "from numpy import ndarray as arr\n",
    "import pandas as pd\n",
    "from matplotlib import pyplot as plt"
   ]
  },
  {
   "cell_type": "code",
   "execution_count": 2,
   "metadata": {},
   "outputs": [],
   "source": [
    "pd_data: pd.DataFrame = pd.read_csv(\"data.csv\")\n",
    "\n",
    "data = np.array(pd_data)\n",
    "\n",
    "del pd_data"
   ]
  },
  {
   "cell_type": "code",
   "execution_count": 3,
   "metadata": {},
   "outputs": [],
   "source": [
    "np.random.shuffle(data)\n",
    "\n",
    "data_test: arr = data[:2000] # (2000, 785)\n",
    "x_test: arr = data_test[:, 1:] / 255.0 # (2000, 784)\n",
    "y_test: arr = data_test[:, 0] # (2000, 1)\n",
    "\n",
    "data_train: arr = data[2000:] # (40000, 785)\n",
    "x_train: arr = data_train[:, 1:] / 255.0 # (40000, 784)\n",
    "y_train: arr = data_train[:, 0] # (40000, 1)\n",
    "\n",
    "del data, data_test, data_train"
   ]
  },
  {
   "cell_type": "code",
   "execution_count": 20,
   "metadata": {},
   "outputs": [
    {
     "name": "stdout",
     "output_type": "stream",
     "text": [
      "Epoch 0\n",
      "Accuracy: 9.98%\n",
      "Epoch 40\n",
      "Accuracy: 64.06%\n",
      "Epoch 80\n",
      "Accuracy: 77.16%\n",
      "Epoch 120\n",
      "Accuracy: 84.37%\n",
      "Epoch 160\n",
      "Accuracy: 84.93%\n",
      "Epoch 200\n",
      "Accuracy: 87.81%\n",
      "Epoch 240\n",
      "Accuracy: 88.90%\n",
      "Epoch 280\n",
      "Accuracy: 69.21%\n",
      "Epoch 320\n",
      "Accuracy: 87.77%\n",
      "Epoch 360\n",
      "Accuracy: 89.50%\n",
      "Epoch 400\n",
      "Accuracy: 90.17%\n",
      "Epoch 440\n",
      "Accuracy: 90.62%\n",
      "Epoch 480\n",
      "Accuracy: 90.93%\n",
      "Epoch 520\n",
      "Accuracy: 91.17%\n",
      "Epoch 560\n",
      "Accuracy: 91.42%\n",
      "Epoch 600\n",
      "Accuracy: 91.12%\n",
      "Epoch 640\n",
      "Accuracy: 75.86%\n",
      "Epoch 680\n",
      "Accuracy: 89.57%\n",
      "Epoch 720\n",
      "Accuracy: 90.82%\n",
      "Epoch 760\n",
      "Accuracy: 91.36%\n",
      "Epoch 800\n",
      "Accuracy: 91.74%\n",
      "Epoch 840\n",
      "Accuracy: 91.95%\n",
      "Epoch 880\n",
      "Accuracy: 92.10%\n",
      "Epoch 920\n",
      "Accuracy: 92.25%\n",
      "Epoch 960\n",
      "Accuracy: 92.36%\n",
      "Epoch 1000\n",
      "Accuracy: 92.42%\n",
      "Epoch 1040\n",
      "Accuracy: 92.50%\n",
      "Epoch 1080\n",
      "Accuracy: 92.55%\n",
      "Epoch 1120\n",
      "Accuracy: 92.59%\n",
      "Epoch 1160\n",
      "Accuracy: 92.64%\n",
      "Epoch 1200\n",
      "Accuracy: 92.69%\n",
      "Epoch 1240\n",
      "Accuracy: 92.75%\n",
      "Epoch 1280\n",
      "Accuracy: 92.79%\n",
      "Epoch 1320\n",
      "Accuracy: 92.86%\n",
      "Epoch 1360\n",
      "Accuracy: 92.85%\n",
      "Epoch 1400\n",
      "Accuracy: 30.49%\n",
      "Epoch 1440\n",
      "Accuracy: 84.80%\n",
      "Epoch 1480\n",
      "Accuracy: 90.46%\n",
      "Epoch 1520\n",
      "Accuracy: 91.26%\n",
      "Epoch 1560\n",
      "Accuracy: 91.63%\n",
      "Epoch 1600\n",
      "Accuracy: 91.94%\n",
      "Epoch 1640\n",
      "Accuracy: 92.14%\n",
      "Epoch 1680\n",
      "Accuracy: 92.31%\n",
      "Epoch 1720\n",
      "Accuracy: 92.46%\n",
      "Epoch 1760\n",
      "Accuracy: 92.54%\n",
      "Epoch 1800\n",
      "Accuracy: 92.61%\n",
      "Epoch 1840\n",
      "Accuracy: 92.67%\n",
      "Epoch 1880\n",
      "Accuracy: 92.73%\n",
      "Epoch 1920\n",
      "Accuracy: 92.77%\n",
      "Epoch 1960\n",
      "Accuracy: 92.85%\n"
     ]
    }
   ],
   "source": [
    "def leakyRelU(x: arr, alpha: float = 0.01) -> arr:\n",
    "    return np.where(x > 0, x, alpha * x)\n",
    "\n",
    "\n",
    "def leakyRelUDeriv(x: arr, alpha: float = 0.01) -> arr:\n",
    "    return np.where(x > 0, 1, alpha)\n",
    "\n",
    "\n",
    "def softMax(x: arr) -> arr:\n",
    "    e_x = np.exp(x - np.max(x, axis=1, keepdims=True))\n",
    "    return e_x / np.sum(e_x, axis=1, keepdims=True)\n",
    "\n",
    "\n",
    "def init_parms() -> list[list[arr]]:\n",
    "    w1: arr = np.random.rand(784, 10) - 0.5\n",
    "    b1: arr = np.random.rand(1, 10) - 0.5\n",
    "\n",
    "    w2: arr = np.random.rand(10, 20) - 0.5\n",
    "    b2: arr = np.random.rand(1, 20) - 0.5\n",
    "\n",
    "    w3: arr = np.random.rand(20, 10) - 0.5\n",
    "    b3: arr = np.random.rand(1, 10) - 0.5\n",
    "\n",
    "    return [[w1, b1], [w2, b2], [w3, b3]]\n",
    "\n",
    "\n",
    "def forward_prop(nn: list[list[arr]], x: arr) -> list[list[arr]]:\n",
    "    outputs: list[list[arr]] = []\n",
    "\n",
    "    for i, (w,b) in enumerate(nn):\n",
    "        inp: arr = outputs[-1][1] if outputs else x\n",
    "\n",
    "        z: arr = inp @ w + b\n",
    "        a: arr = (leakyRelU if i != len(nn) - 1 else softMax)(z)\n",
    "\n",
    "        outputs.append([z, a])\n",
    "\n",
    "    return outputs\n",
    "\n",
    "\n",
    "def one_hot(y: arr) -> arr:\n",
    "    return np.eye(np.max(y) + 1)[y]\n",
    "\n",
    "def back_prop(nn: list[list[arr]], outputs: list[list[arr]], x: arr, y: arr) -> list[list[arr]]:\n",
    "    gradient: list[list[arr]] = []\n",
    "    z_deltas: list[arr] = []\n",
    "\n",
    "    for i in range(len(nn) - 1, -1, -1):\n",
    "        z, a = outputs[i]\n",
    "\n",
    "        if z_deltas:\n",
    "            dz = z_deltas[-1].dot(nn[i + 1][0].T) * leakyRelUDeriv(z)\n",
    "        else:\n",
    "            dz = a - one_hot(y)\n",
    "        \n",
    "        z_deltas.append(dz)\n",
    "        \n",
    "        dw = 1 / y.size * dz.T @ (outputs[i - 1][0] if i > 0 else x)\n",
    "        db = 1 / y.size * np.sum(dz)\n",
    "\n",
    "        gradient.append([dw, db])\n",
    "\n",
    "    return gradient[::-1]\n",
    "\n",
    "t = 0\n",
    "m_dw = [np.zeros((784, 10)), np.zeros((10, 20)), np.zeros((20, 10))]\n",
    "m_db = [np.zeros((1, 10)), np.zeros((1, 20)), np.zeros((1, 10))]\n",
    "\n",
    "v_dw = [np.zeros((784, 10)), np.zeros((10, 20)), np.zeros((20, 10))]\n",
    "v_db = [np.zeros((1, 10)), np.zeros((1, 20)), np.zeros((1, 10))]\n",
    "\n",
    "epsilon = 1e-8\n",
    "\n",
    "def update_params(nn: list[list[arr]], gradient: list[list[arr]], learning_rate: float = 0.05) -> None:\n",
    "    assert len(nn) == len(gradient)\n",
    "\n",
    "    beta1 = 0.9\n",
    "    beta2 = 0.999\n",
    "\n",
    "\n",
    "\n",
    "    for i, (dw, db) in enumerate(gradient):\n",
    "        m_dw[i] = beta1 * m_dw[i] + (1 - beta1) * dw.T\n",
    "        m_db[i] = beta1 * m_db[i] + (1 - beta1) * db.T\n",
    "\n",
    "        v_dw[i] = beta2 * v_dw[i] + (1 - beta2) * dw.T ** 2\n",
    "        v_db[i] = beta2 * v_db[i] + (1 - beta2) * db.T ** 2\n",
    "\n",
    "        m_dw_corr = m_dw[i] / (1 - beta1 ** t)\n",
    "        m_db_corr = m_db[i] / (1 - beta1 ** t)\n",
    "        v_dw_corr = v_dw[i] / (1 - beta2 ** t)\n",
    "        v_db_corr = v_db[i] / (1 - beta2 ** t)\n",
    "\n",
    "        m_dw_corr[m_dw_corr < 0] = 0\n",
    "        m_db_corr[m_db_corr < 0] = 0\n",
    "        v_dw_corr[v_dw_corr < 0] = 0\n",
    "        v_db_corr[v_db_corr < 0] = 0\n",
    "\n",
    "        nn[i][0] -= learning_rate * (m_dw_corr / (np.sqrt(v_dw_corr) + epsilon))\n",
    "        nn[i][1] -= learning_rate * (m_db_corr / (np.sqrt(v_db_corr) + epsilon))\n",
    "\n",
    "\n",
    "def get_predictions(out: arr) -> arr:\n",
    "    return np.argmax(out, axis=1)\n",
    "\n",
    "def get_accuracy(predictions: arr, actual: arr) -> arr:\n",
    "    return 100 * (np.sum(predictions == actual) / actual.size)\n",
    "\n",
    "\n",
    "def gradient_descent(nn: list[list[arr]], x: arr, y: arr, iterations: int = 1000) -> None:\n",
    "    print_freq = (int) (iterations / 50)\n",
    "\n",
    "    for i in range(iterations):\n",
    "        out = forward_prop(nn, x)\n",
    "\n",
    "        grad = back_prop(nn, out, x, y)\n",
    "\n",
    "        global t\n",
    "        t += 1\n",
    "    \n",
    "        update_params(nn, grad)\n",
    "        \n",
    "        if i % print_freq == 0:\n",
    "            print(f\"Epoch {i}\")\n",
    "            print(f\"Accuracy: {get_accuracy(get_predictions(out[-1][1]), y):.2f}%\")\n",
    "\n",
    "nn = init_parms()\n",
    "gradient_descent(nn, x_train, y_train, 2000)\n"
   ]
  },
  {
   "cell_type": "code",
   "execution_count": 21,
   "metadata": {},
   "outputs": [
    {
     "name": "stdout",
     "output_type": "stream",
     "text": [
      "Test data accuracy: 91.85%\n"
     ]
    }
   ],
   "source": [
    "def predict(nn: list[list[arr]], x: arr) -> arr:\n",
    "    return get_predictions(forward_prop(nn, x)[-1][1])\n",
    "\n",
    "predictions = predict(nn, x_test)\n",
    "\n",
    "print(f\"Test data accuracy: {get_accuracy(predictions, y_test):.2f}%\")"
   ]
  },
  {
   "cell_type": "code",
   "execution_count": 24,
   "metadata": {},
   "outputs": [
    {
     "data": {
      "image/png": "[encoded data removed]",
      "text/plain": [
       "<Figure size 432x288 with 1 Axes>"
      ]
     },
     "metadata": {
      "needs_background": "light"
     },
     "output_type": "display_data"
    },
    {
     "name": "stdout",
     "output_type": "stream",
     "text": [
      "Prediction: 7\n",
      "Label: 7\n"
     ]
    },
    {
     "data": {
      "image/png": "[encoded data removed]",
      "text/plain": [
       "<Figure size 432x288 with 1 Axes>"
      ]
     },
     "metadata": {
      "needs_background": "light"
     },
     "output_type": "display_data"
    },
    {
     "name": "stdout",
     "output_type": "stream",
     "text": [
      "Prediction: 5\n",
      "Label: 5\n"
     ]
    },
    {
     "data": {
      "image/png": "[encoded data removed]",
      "text/plain": [
       "<Figure size 432x288 with 1 Axes>"
      ]
     },
     "metadata": {
      "needs_background": "light"
     },
     "output_type": "display_data"
    },
    {
     "name": "stdout",
     "output_type": "stream",
     "text": [
      "Prediction: 3\n",
      "Label: 3\n"
     ]
    },
    {
     "data": {
      "image/png": "[encoded data removed]",
      "text/plain": [
       "<Figure size 432x288 with 1 Axes>"
      ]
     },
     "metadata": {
      "needs_background": "light"
     },
     "output_type": "display_data"
    },
    {
     "name": "stdout",
     "output_type": "stream",
     "text": [
      "Prediction: 2\n",
      "Label: 2\n"
     ]
    },
    {
     "data": {
      "image/png": "[encoded data removed]",
      "text/plain": [
       "<Figure size 432x288 with 1 Axes>"
      ]
     },
     "metadata": {
      "needs_background": "light"
     },
     "output_type": "display_data"
    },
    {
     "name": "stdout",
     "output_type": "stream",
     "text": [
      "Prediction: 5\n",
      "Label: 5\n"
     ]
    },
    {
     "data": {
      "image/png": "[encoded data removed]",
      "text/plain": [
       "<Figure size 432x288 with 1 Axes>"
      ]
     },
     "metadata": {
      "needs_background": "light"
     },
     "output_type": "display_data"
    },
    {
     "name": "stdout",
     "output_type": "stream",
     "text": [
      "Prediction: 4\n",
      "Label: 4\n"
     ]
    },
    {
     "data": {
      "image/png": "[encoded data removed]",
      "text/plain": [
       "<Figure size 432x288 with 1 Axes>"
      ]
     },
     "metadata": {
      "needs_background": "light"
     },
     "output_type": "display_data"
    },
    {
     "name": "stdout",
     "output_type": "stream",
     "text": [
      "Prediction: 7\n",
      "Label: 7\n"
     ]
    },
    {
     "data": {
      "image/png": "[encoded data removed]",
      "text/plain": [
       "<Figure size 432x288 with 1 Axes>"
      ]
     },
     "metadata": {
      "needs_background": "light"
     },
     "output_type": "display_data"
    },
    {
     "name": "stdout",
     "output_type": "stream",
     "text": [
      "Prediction: 1\n",
      "Label: 1\n"
     ]
    },
    {
     "data": {
      "image/png": "[encoded data removed]",
      "text/plain": [
       "<Figure size 432x288 with 1 Axes>"
      ]
     },
     "metadata": {
      "needs_background": "light"
     },
     "output_type": "display_data"
    },
    {
     "name": "stdout",
     "output_type": "stream",
     "text": [
      "Prediction: 0\n",
      "Label: 0\n"
     ]
    },
    {
     "data": {
      "image/png": "[encoded data removed]",
      "text/plain": [
       "<Figure size 432x288 with 1 Axes>"
      ]
     },
     "metadata": {
      "needs_background": "light"
     },
     "output_type": "display_data"
    },
    {
     "name": "stdout",
     "output_type": "stream",
     "text": [
      "Prediction: 2\n",
      "Label: 9\n"
     ]
    },
    {
     "data": {
      "image/png": "[encoded data removed]",
      "text/plain": [
       "<Figure size 432x288 with 1 Axes>"
      ]
     },
     "metadata": {
      "needs_background": "light"
     },
     "output_type": "display_data"
    },
    {
     "name": "stdout",
     "output_type": "stream",
     "text": [
      "Prediction: 2\n",
      "Label: 2\n"
     ]
    },
    {
     "data": {
      "image/png": "[encoded data removed]",
      "text/plain": [
       "<Figure size 432x288 with 1 Axes>"
      ]
     },
     "metadata": {
      "needs_background": "light"
     },
     "output_type": "display_data"
    },
    {
     "name": "stdout",
     "output_type": "stream",
     "text": [
      "Prediction: 2\n",
      "Label: 2\n"
     ]
    },
    {
     "data": {
      "image/png": "[encoded data removed]",
      "text/plain": [
       "<Figure size 432x288 with 1 Axes>"
      ]
     },
     "metadata": {
      "needs_background": "light"
     },
     "output_type": "display_data"
    },
    {
     "name": "stdout",
     "output_type": "stream",
     "text": [
      "Prediction: 3\n",
      "Label: 3\n"
     ]
    },
    {
     "data": {
      "image/png": "[encoded data removed]",
      "text/plain": [
       "<Figure size 432x288 with 1 Axes>"
      ]
     },
     "metadata": {
      "needs_background": "light"
     },
     "output_type": "display_data"
    },
    {
     "name": "stdout",
     "output_type": "stream",
     "text": [
      "Prediction: 9\n",
      "Label: 9\n"
     ]
    },
    {
     "data": {
      "image/png": "[encoded data removed]",
      "text/plain": [
       "<Figure size 432x288 with 1 Axes>"
      ]
     },
     "metadata": {
      "needs_background": "light"
     },
     "output_type": "display_data"
    },
    {
     "name": "stdout",
     "output_type": "stream",
     "text": [
      "Prediction: 3\n",
      "Label: 3\n"
     ]
    },
    {
     "data": {
      "image/png": "[encoded data removed]",
      "text/plain": [
       "<Figure size 432x288 with 1 Axes>"
      ]
     },
     "metadata": {
      "needs_background": "light"
     },
     "output_type": "display_data"
    },
    {
     "name": "stdout",
     "output_type": "stream",
     "text": [
      "Prediction: 4\n",
      "Label: 4\n"
     ]
    },
    {
     "data": {
      "image/png": "[encoded data removed]",
      "text/plain": [
       "<Figure size 432x288 with 1 Axes>"
      ]
     },
     "metadata": {
      "needs_background": "light"
     },
     "output_type": "display_data"
    },
    {
     "name": "stdout",
     "output_type": "stream",
     "text": [
      "Prediction: 6\n",
      "Label: 6\n"
     ]
    },
    {
     "data": {
      "image/png": "[encoded data removed]",
      "text/plain": [
       "<Figure size 432x288 with 1 Axes>"
      ]
     },
     "metadata": {
      "needs_background": "light"
     },
     "output_type": "display_data"
    },
    {
     "name": "stdout",
     "output_type": "stream",
     "text": [
      "Prediction: 5\n",
      "Label: 5\n"
     ]
    },
    {
     "data": {
      "image/png": "[encoded data removed]",
      "text/plain": [
       "<Figure size 432x288 with 1 Axes>"
      ]
     },
     "metadata": {
      "needs_background": "light"
     },
     "output_type": "display_data"
    },
    {
     "name": "stdout",
     "output_type": "stream",
     "text": [
      "Prediction: 0\n",
      "Label: 0\n"
     ]
    },
    {
     "data": {
      "image/png": "[encoded data removed]",
      "text/plain": [
       "<Figure size 432x288 with 1 Axes>"
      ]
     },
     "metadata": {
      "needs_background": "light"
     },
     "output_type": "display_data"
    },
    {
     "name": "stdout",
     "output_type": "stream",
     "text": [
      "Prediction: 3\n",
      "Label: 5\n"
     ]
    },
    {
     "data": {
      "image/png": "[encoded data removed]",
      "text/plain": [
       "<Figure size 432x288 with 1 Axes>"
      ]
     },
     "metadata": {
      "needs_background": "light"
     },
     "output_type": "display_data"
    },
    {
     "name": "stdout",
     "output_type": "stream",
     "text": [
      "Prediction: 4\n",
      "Label: 4\n"
     ]
    },
    {
     "data": {
      "image/png": "[encoded data removed]",
      "text/plain": [
       "<Figure size 432x288 with 1 Axes>"
      ]
     },
     "metadata": {
      "needs_background": "light"
     },
     "output_type": "display_data"
    },
    {
     "name": "stdout",
     "output_type": "stream",
     "text": [
      "Prediction: 2\n",
      "Label: 2\n"
     ]
    },
    {
     "data": {
      "image/png": "[encoded data removed]",
      "text/plain": [
       "<Figure size 432x288 with 1 Axes>"
      ]
     },
     "metadata": {
      "needs_background": "light"
     },
     "output_type": "display_data"
    },
    {
     "name": "stdout",
     "output_type": "stream",
     "text": [
      "Prediction: 3\n",
      "Label: 3\n"
     ]
    },
    {
     "data": {
      "image/png": "[encoded data removed]",
      "text/plain": [
       "<Figure size 432x288 with 1 Axes>"
      ]
     },
     "metadata": {
      "needs_background": "light"
     },
     "output_type": "display_data"
    },
    {
     "name": "stdout",
     "output_type": "stream",
     "text": [
      "Prediction: 6\n",
      "Label: 6\n"
     ]
    },
    {
     "data": {
      "image/png": "[encoded data removed]",
      "text/plain": [
       "<Figure size 432x288 with 1 Axes>"
      ]
     },
     "metadata": {
      "needs_background": "light"
     },
     "output_type": "display_data"
    },
    {
     "name": "stdout",
     "output_type": "stream",
     "text": [
      "Prediction: 2\n",
      "Label: 2\n"
     ]
    },
    {
     "data": {
      "image/png": "[encoded data removed]",
      "text/plain": [
       "<Figure size 432x288 with 1 Axes>"
      ]
     },
     "metadata": {
      "needs_background": "light"
     },
     "output_type": "display_data"
    },
    {
     "name": "stdout",
     "output_type": "stream",
     "text": [
      "Prediction: 9\n",
      "Label: 9\n"
     ]
    },
    {
     "data": {
      "image/png": "[encoded data removed]",
      "text/plain": [
       "<Figure size 432x288 with 1 Axes>"
      ]
     },
     "metadata": {
      "needs_background": "light"
     },
     "output_type": "display_data"
    },
    {
     "name": "stdout",
     "output_type": "stream",
     "text": [
      "Prediction: 3\n",
      "Label: 3\n"
     ]
    },
    {
     "data": {
      "image/png": "[encoded data removed]",
      "text/plain": [
       "<Figure size 432x288 with 1 Axes>"
      ]
     },
     "metadata": {
      "needs_background": "light"
     },
     "output_type": "display_data"
    },
    {
     "name": "stdout",
     "output_type": "stream",
     "text": [
      "Prediction: 1\n",
      "Label: 1\n"
     ]
    },
    {
     "data": {
      "image/png": "[encoded data removed]",
      "text/plain": [
       "<Figure size 432x288 with 1 Axes>"
      ]
     },
     "metadata": {
      "needs_background": "light"
     },
     "output_type": "display_data"
    },
    {
     "name": "stdout",
     "output_type": "stream",
     "text": [
      "Prediction: 5\n",
      "Label: 8\n"
     ]
    },
    {
     "data": {
      "image/png": "[encoded data removed]",
      "text/plain": [
       "<Figure size 432x288 with 1 Axes>"
      ]
     },
     "metadata": {
      "needs_background": "light"
     },
     "output_type": "display_data"
    },
    {
     "name": "stdout",
     "output_type": "stream",
     "text": [
      "Prediction: 0\n",
      "Label: 0\n"
     ]
    },
    {
     "data": {
      "image/png": "[encoded data removed]",
      "text/plain": [
       "<Figure size 432x288 with 1 Axes>"
      ]
     },
     "metadata": {
      "needs_background": "light"
     },
     "output_type": "display_data"
    },
    {
     "name": "stdout",
     "output_type": "stream",
     "text": [
      "Prediction: 1\n",
      "Label: 1\n"
     ]
    },
    {
     "data": {
      "image/png": "[encoded data removed]",
      "text/plain": [
       "<Figure size 432x288 with 1 Axes>"
      ]
     },
     "metadata": {
      "needs_background": "light"
     },
     "output_type": "display_data"
    },
    {
     "name": "stdout",
     "output_type": "stream",
     "text": [
      "Prediction: 5\n",
      "Label: 8\n"
     ]
    },
    {
     "data": {
      "image/png": "[encoded data removed]",
      "text/plain": [
       "<Figure size 432x288 with 1 Axes>"
      ]
     },
     "metadata": {
      "needs_background": "light"
     },
     "output_type": "display_data"
    },
    {
     "name": "stdout",
     "output_type": "stream",
     "text": [
      "Prediction: 3\n",
      "Label: 3\n"
     ]
    },
    {
     "data": {
      "image/png": "[encoded data removed]",
      "text/plain": [
       "<Figure size 432x288 with 1 Axes>"
      ]
     },
     "metadata": {
      "needs_background": "light"
     },
     "output_type": "display_data"
    },
    {
     "name": "stdout",
     "output_type": "stream",
     "text": [
      "Prediction: 7\n",
      "Label: 7\n"
     ]
    },
    {
     "data": {
      "image/png": "[encoded data removed]",
      "text/plain": [
       "<Figure size 432x288 with 1 Axes>"
      ]
     },
     "metadata": {
      "needs_background": "light"
     },
     "output_type": "display_data"
    },
    {
     "name": "stdout",
     "output_type": "stream",
     "text": [
      "Prediction: 0\n",
      "Label: 0\n"
     ]
    },
    {
     "data": {
      "image/png": "[encoded data removed]",
      "text/plain": [
       "<Figure size 432x288 with 1 Axes>"
      ]
     },
     "metadata": {
      "needs_background": "light"
     },
     "output_type": "display_data"
    },
    {
     "name": "stdout",
     "output_type": "stream",
     "text": [
      "Prediction: 5\n",
      "Label: 5\n"
     ]
    },
    {
     "data": {
      "image/png": "[encoded data removed]",
      "text/plain": [
       "<Figure size 432x288 with 1 Axes>"
      ]
     },
     "metadata": {
      "needs_background": "light"
     },
     "output_type": "display_data"
    },
    {
     "name": "stdout",
     "output_type": "stream",
     "text": [
      "Prediction: 9\n",
      "Label: 9\n"
     ]
    },
    {
     "data": {
      "image/png": "[encoded data removed]",
      "text/plain": [
       "<Figure size 432x288 with 1 Axes>"
      ]
     },
     "metadata": {
      "needs_background": "light"
     },
     "output_type": "display_data"
    },
    {
     "name": "stdout",
     "output_type": "stream",
     "text": [
      "Prediction: 9\n",
      "Label: 4\n"
     ]
    },
    {
     "data": {
      "image/png": "[encoded data removed]",
      "text/plain": [
       "<Figure size 432x288 with 1 Axes>"
      ]
     },
     "metadata": {
      "needs_background": "light"
     },
     "output_type": "display_data"
    },
    {
     "name": "stdout",
     "output_type": "stream",
     "text": [
      "Prediction: 7\n",
      "Label: 7\n"
     ]
    },
    {
     "data": {
      "image/png": "[encoded data removed]",
      "text/plain": [
       "<Figure size 432x288 with 1 Axes>"
      ]
     },
     "metadata": {
      "needs_background": "light"
     },
     "output_type": "display_data"
    },
    {
     "name": "stdout",
     "output_type": "stream",
     "text": [
      "Prediction: 1\n",
      "Label: 1\n"
     ]
    },
    {
     "data": {
      "image/png": "[encoded data removed]",
      "text/plain": [
       "<Figure size 432x288 with 1 Axes>"
      ]
     },
     "metadata": {
      "needs_background": "light"
     },
     "output_type": "display_data"
    },
    {
     "name": "stdout",
     "output_type": "stream",
     "text": [
      "Prediction: 8\n",
      "Label: 1\n"
     ]
    },
    {
     "data": {
      "image/png": "[encoded data removed]",
      "text/plain": [
       "<Figure size 432x288 with 1 Axes>"
      ]
     },
     "metadata": {
      "needs_background": "light"
     },
     "output_type": "display_data"
    },
    {
     "name": "stdout",
     "output_type": "stream",
     "text": [
      "Prediction: 0\n",
      "Label: 0\n"
     ]
    },
    {
     "data": {
      "image/png": "[encoded data removed]",
      "text/plain": [
       "<Figure size 432x288 with 1 Axes>"
      ]
     },
     "metadata": {
      "needs_background": "light"
     },
     "output_type": "display_data"
    },
    {
     "name": "stdout",
     "output_type": "stream",
     "text": [
      "Prediction: 1\n",
      "Label: 1\n"
     ]
    },
    {
     "data": {
      "image/png": "[encoded data removed]",
      "text/plain": [
       "<Figure size 432x288 with 1 Axes>"
      ]
     },
     "metadata": {
      "needs_background": "light"
     },
     "output_type": "display_data"
    },
    {
     "name": "stdout",
     "output_type": "stream",
     "text": [
      "Prediction: 9\n",
      "Label: 9\n"
     ]
    },
    {
     "data": {
      "image/png": "[encoded data removed]",
      "text/plain": [
       "<Figure size 432x288 with 1 Axes>"
      ]
     },
     "metadata": {
      "needs_background": "light"
     },
     "output_type": "display_data"
    },
    {
     "name": "stdout",
     "output_type": "stream",
     "text": [
      "Prediction: 0\n",
      "Label: 0\n"
     ]
    },
    {
     "data": {
      "image/png": "[encoded data removed]",
      "text/plain": [
       "<Figure size 432x288 with 1 Axes>"
      ]
     },
     "metadata": {
      "needs_background": "light"
     },
     "output_type": "display_data"
    },
    {
     "name": "stdout",
     "output_type": "stream",
     "text": [
      "Prediction: 5\n",
      "Label: 5\n"
     ]
    },
    {
     "data": {
      "image/png": "[encoded data removed]",
      "text/plain": [
       "<Figure size 432x288 with 1 Axes>"
      ]
     },
     "metadata": {
      "needs_background": "light"
     },
     "output_type": "display_data"
    },
    {
     "name": "stdout",
     "output_type": "stream",
     "text": [
      "Prediction: 4\n",
      "Label: 4\n"
     ]
    },
    {
     "data": {
      "image/png": "[encoded data removed]",
      "text/plain": [
       "<Figure size 432x288 with 1 Axes>"
      ]
     },
     "metadata": {
      "needs_background": "light"
     },
     "output_type": "display_data"
    },
    {
     "name": "stdout",
     "output_type": "stream",
     "text": [
      "Prediction: 2\n",
      "Label: 2\n"
     ]
    },
    {
     "data": {
      "image/png": "[encoded data removed]",
      "text/plain": [
       "<Figure size 432x288 with 1 Axes>"
      ]
     },
     "metadata": {
      "needs_background": "light"
     },
     "output_type": "display_data"
    },
    {
     "name": "stdout",
     "output_type": "stream",
     "text": [
      "Prediction: 1\n",
      "Label: 1\n"
     ]
    },
    {
     "data": {
      "image/png": "[encoded data removed]",
      "text/plain": [
       "<Figure size 432x288 with 1 Axes>"
      ]
     },
     "metadata": {
      "needs_background": "light"
     },
     "output_type": "display_data"
    },
    {
     "name": "stdout",
     "output_type": "stream",
     "text": [
      "Prediction: 2\n",
      "Label: 2\n"
     ]
    }
   ],
   "source": [
    "for img, p, lbl, _ in zip(x_test, predictions, y_test, range(50)):\n",
    "    plt.gray()\n",
    "    plt.imshow(img.reshape((28, 28)) * 255)\n",
    "    plt.show()\n",
    "    print(f\"Prediction: {p}\")\n",
    "    print(f\"Label: {lbl}\")\n"
   ]
  }
 ],
 "metadata": {
  "kernelspec": {
   "display_name": "Python 3",
   "language": "python",
   "name": "python3"
  },
  "language_info": {
   "codemirror_mode": {
    "name": "ipython",
    "version": 3
   },
   "file_extension": ".py",
   "mimetype": "text/x-python",
   "name": "python",
   "nbconvert_exporter": "python",
   "pygments_lexer": "ipython3",
   "version": "3.10.6"
  },
  "orig_nbformat": 4,
  "vscode": {
   "interpreter": {
    "hash": "916dbcbb3f70747c44a77c7bcd40155683ae19c65e1c03b4aa3499c5328201f1"
   }
  }
 },
 "nbformat": 4,
 "nbformat_minor": 2
}
