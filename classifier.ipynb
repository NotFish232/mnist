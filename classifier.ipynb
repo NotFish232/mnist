{
 "cells": [
  {
   "cell_type": "code",
   "execution_count": 1,
   "metadata": {},
   "outputs": [],
   "source": [
    "import numpy as np\n",
    "from numpy import ndarray as arr\n",
    "import pandas as pd\n",
    "from matplotlib import pyplot as plt"
   ]
  },
  {
   "cell_type": "code",
   "execution_count": 2,
   "metadata": {},
   "outputs": [],
   "source": [
    "pd_data: pd.DataFrame = pd.read_csv(\"data.csv\")\n",
    "\n",
    "data = np.array(pd_data)\n",
    "\n",
    "del pd_data"
   ]
  },
  {
   "cell_type": "code",
   "execution_count": 3,
   "metadata": {},
   "outputs": [],
   "source": [
    "np.random.shuffle(data)\n",
    "\n",
    "data_test: arr = data[:2000] # (2000, 785)\n",
    "x_test: arr = data_test[:, 1:] / 255.0 # (2000, 784)\n",
    "y_test: arr = data_test[:, 0] # (2000, 1)\n",
    "\n",
    "data_train: arr = data[2000:] # (40000, 785)\n",
    "x_train: arr = data_train[:, 1:] / 255.0 # (40000, 784)\n",
    "y_train: arr = data_train[:, 0] # (40000, 1)\n",
    "\n",
    "del data, data_test, data_train"
   ]
  },
  {
   "cell_type": "code",
   "execution_count": null,
   "metadata": {},
   "outputs": [],
   "source": [
    "def leakyRelU(x: arr, alpha: float = 0.01) -> arr:\n",
    "    return np.where(x > 0, x, alpha * x)\n",
    "\n",
    "\n",
    "def leakyRelUDeriv(x: arr, alpha: float = 0.01) -> arr:\n",
    "    return np.where(x > 0, 1, alpha)\n",
    "\n",
    "\n",
    "def softMax(x: arr) -> arr:\n",
    "    e_x = np.exp(x - np.max(x, axis=1, keepdims=True))\n",
    "    return e_x / np.sum(e_x, axis=1, keepdims=True)\n",
    "\n",
    "\n",
    "def init_parms() -> list[list[arr]]:\n",
    "    w1: arr = np.random.rand(784, 10) - 0.5\n",
    "    b1: arr = np.random.rand(1, 10) - 0.5\n",
    "\n",
    "    w2: arr = np.random.rand(10, 20) - 0.5\n",
    "    b2: arr = np.random.rand(1, 20) - 0.5\n",
    "\n",
    "    w3: arr = np.random.rand(20, 10) - 0.5\n",
    "    b3: arr = np.random.rand(1, 10) - 0.5\n",
    "\n",
    "    return [[w1, b1], [w2, b2], [w3, b3]]\n",
    "\n",
    "\n",
    "def forward_prop(nn: list[list[arr]], x: arr) -> list[list[arr]]:\n",
    "    outputs: list[list[arr]] = []\n",
    "\n",
    "    for i, (w,b) in enumerate(nn):\n",
    "        inp: arr = outputs[-1][1] if outputs else x\n",
    "\n",
    "        z: arr = inp @ w + b\n",
    "        a: arr = (leakyRelU if i != len(nn) - 1 else softMax)(z)\n",
    "\n",
    "        outputs.append([z, a])\n",
    "\n",
    "    return outputs\n",
    "\n",
    "\n",
    "def one_hot(y: arr) -> arr:\n",
    "    return np.eye(np.max(y) + 1)[y]\n",
    "\n",
    "def back_prop(nn: list[list[arr]], outputs: list[list[arr]], x: arr, y: arr) -> list[list[arr]]:\n",
    "    gradient: list[list[arr]] = []\n",
    "    z_deltas: list[arr] = []\n",
    "\n",
    "    for i in range(len(nn) - 1, -1, -1):\n",
    "        z, a = outputs[i]\n",
    "\n",
    "        if z_deltas:\n",
    "            dz = z_deltas[-1].dot(nn[i + 1][0].T) * leakyRelUDeriv(z)\n",
    "        else:\n",
    "            dz = a - one_hot(y)\n",
    "        \n",
    "        z_deltas.append(dz)\n",
    "        \n",
    "        dw = 1 / y.size * dz.T @ (outputs[i - 1][0] if i > 0 else x)\n",
    "        db = 1 / y.size * np.sum(dz)\n",
    "\n",
    "        gradient.append([dw, db])\n",
    "\n",
    "    return gradient[::-1]\n",
    "\n",
    "def update_params(nn: list[list[arr]], gradient: list[list[arr]], learning_rate: float = 0.25) -> None:\n",
    "    assert len(nn) == len(gradient)\n",
    "\n",
    "    for i, (dw, db) in enumerate(gradient):\n",
    "        nn[i][0] -= learning_rate * dw.T\n",
    "        nn[i][1] -= learning_rate * db.T\n",
    "\n",
    "\n",
    "def get_predictions(out: arr) -> arr:\n",
    "    return np.argmax(out, axis=1)\n",
    "\n",
    "def get_accuracy(predictions: arr, actual: arr) -> arr:\n",
    "    return np.sum(predictions == actual) / actual.size\n",
    "\n",
    "\n",
    "def gradient_descent(nn: list[list[arr]], x: arr, y: arr, iterations: int = 1000) -> None:\n",
    "    print_freq = (int) (iterations / 50)\n",
    "\n",
    "    for i in range(iterations):\n",
    "        out = forward_prop(nn, x)\n",
    "\n",
    "        grad = back_prop(nn, out, x, y)\n",
    "    \n",
    "        update_params(nn, grad)\n",
    "        \n",
    "        if i % print_freq == 0:\n",
    "            print(f\"Epoch {i}\")\n",
    "            print(f\"Accuracy: {get_accuracy(get_predictions(out[-1][1]), y)}\")\n",
    "\n",
    "nn = init_parms()\n",
    "gradient_descent(nn, x_train, y_train, 1000)\n"
   ]
  },
  {
   "cell_type": "code",
   "execution_count": 15,
   "metadata": {},
   "outputs": [
    {
     "name": "stdout",
     "output_type": "stream",
     "text": [
      "0.9165\n"
     ]
    }
   ],
   "source": [
    "def predict(nn: list[list[arr]], x: arr) -> arr:\n",
    "    return get_predictions(forward_prop(nn, x)[-1][1])\n",
    "\n",
    "predictions = predict(nn, x_test)\n",
    "\n",
    "print(get_accuracy(predictions, y_test))"
   ]
  },
  {
   "cell_type": "code",
   "execution_count": null,
   "metadata": {},
   "outputs": [],
   "source": [
    "for img, p, _ in zip(x_test, predictions, range(50)):\n",
    "    plt.gray()\n",
    "    plt.imshow(img.reshape((28, 28)) * 255)\n",
    "    plt.show()\n",
    "    print(f\"Prediction: {p}\")\n"
   ]
  }
 ],
 "metadata": {
  "kernelspec": {
   "display_name": "Python 3",
   "language": "python",
   "name": "python3"
  },
  "language_info": {
   "codemirror_mode": {
    "name": "ipython",
    "version": 3
   },
   "file_extension": ".py",
   "mimetype": "text/x-python",
   "name": "python",
   "nbconvert_exporter": "python",
   "pygments_lexer": "ipython3",
   "version": "3.10.6"
  },
  "orig_nbformat": 4,
  "vscode": {
   "interpreter": {
    "hash": "916dbcbb3f70747c44a77c7bcd40155683ae19c65e1c03b4aa3499c5328201f1"
   }
  }
 },
 "nbformat": 4,
 "nbformat_minor": 2
}
